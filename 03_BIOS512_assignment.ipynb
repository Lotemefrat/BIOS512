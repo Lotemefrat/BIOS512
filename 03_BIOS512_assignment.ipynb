{
 "cells": [
  {
   "cell_type": "markdown",
   "id": "e9216b63-c18a-4c9b-beff-4b6b2e1b6964",
   "metadata": {},
   "source": [
    "# BIOS512 Assignment #3"
   ]
  },
  {
   "cell_type": "markdown",
   "id": "4403015e-d27f-473c-8720-088ac6db57c9",
   "metadata": {},
   "source": [
    "Import the 📈Tidyverse into your `R` session"
   ]
  },
  {
   "cell_type": "code",
   "execution_count": 1,
   "id": "2cb997c6-b57c-4198-aa5c-8be897467c7c",
   "metadata": {},
   "outputs": [
    {
     "name": "stderr",
     "output_type": "stream",
     "text": [
      "── \u001b[1mAttaching core tidyverse packages\u001b[22m ──────────────────────── tidyverse 2.0.0 ──\n",
      "\u001b[32m✔\u001b[39m \u001b[34mdplyr    \u001b[39m 1.1.4     \u001b[32m✔\u001b[39m \u001b[34mreadr    \u001b[39m 2.1.5\n",
      "\u001b[32m✔\u001b[39m \u001b[34mforcats  \u001b[39m 1.0.0     \u001b[32m✔\u001b[39m \u001b[34mstringr  \u001b[39m 1.5.1\n",
      "\u001b[32m✔\u001b[39m \u001b[34mggplot2  \u001b[39m 3.5.1     \u001b[32m✔\u001b[39m \u001b[34mtibble   \u001b[39m 3.2.1\n",
      "\u001b[32m✔\u001b[39m \u001b[34mlubridate\u001b[39m 1.9.3     \u001b[32m✔\u001b[39m \u001b[34mtidyr    \u001b[39m 1.3.1\n",
      "\u001b[32m✔\u001b[39m \u001b[34mpurrr    \u001b[39m 1.0.2     \n",
      "── \u001b[1mConflicts\u001b[22m ────────────────────────────────────────── tidyverse_conflicts() ──\n",
      "\u001b[31m✖\u001b[39m \u001b[34mdplyr\u001b[39m::\u001b[32mfilter()\u001b[39m masks \u001b[34mstats\u001b[39m::filter()\n",
      "\u001b[31m✖\u001b[39m \u001b[34mdplyr\u001b[39m::\u001b[32mlag()\u001b[39m    masks \u001b[34mstats\u001b[39m::lag()\n",
      "\u001b[36mℹ\u001b[39m Use the conflicted package (\u001b[3m\u001b[34m<http://conflicted.r-lib.org/>\u001b[39m\u001b[23m) to force all conflicts to become errors\n"
     ]
    }
   ],
   "source": [
    "library('tidyverse')"
   ]
  },
  {
   "cell_type": "markdown",
   "id": "47ccf7f6-01c6-46b4-94a1-f8dcd8ef8377",
   "metadata": {},
   "source": [
    "In this assignment we'll be using data from the [TidyTuesday Project](https://github.com/rfordatascience/tidytuesday). Specifically, we'll investigate vaccination rates at US schools. A `CSV` file of the data is located at:  \n",
    "\n",
    "[https://github.com/rfordatascience/tidytuesday/blob/master/data/2020/2020-02-25/measles.csv](https://github.com/rfordatascience/tidytuesday/blob/master/data/2020/2020-02-25/measles.csv)\n",
    "\n",
    "Get the \"raw\" data URL and import it into your `R` session using `read_csv`. Remember to capture the data under a variable name of your choosing!"
   ]
  },
  {
   "cell_type": "code",
   "execution_count": 2,
   "id": "8de37571-29da-4393-b1eb-ca13fcd70fed",
   "metadata": {},
   "outputs": [],
   "source": [
    "df.vax <- read.csv('measles.csv')"
   ]
  },
  {
   "cell_type": "code",
   "execution_count": 3,
   "id": "b8a66d9a-d27f-40bb-bc97-10d2d9df6f39",
   "metadata": {
    "tags": []
   },
   "outputs": [
    {
     "data": {
      "text/html": [
       "<table class=\"dataframe\">\n",
       "<caption>A data.frame: 66113 × 16</caption>\n",
       "<thead>\n",
       "\t<tr><th scope=col>index</th><th scope=col>state</th><th scope=col>year</th><th scope=col>name</th><th scope=col>type</th><th scope=col>city</th><th scope=col>county</th><th scope=col>district</th><th scope=col>enroll</th><th scope=col>mmr</th><th scope=col>overall</th><th scope=col>xrel</th><th scope=col>xmed</th><th scope=col>xper</th><th scope=col>lat</th><th scope=col>lng</th></tr>\n",
       "\t<tr><th scope=col>&lt;int&gt;</th><th scope=col>&lt;chr&gt;</th><th scope=col>&lt;chr&gt;</th><th scope=col>&lt;chr&gt;</th><th scope=col>&lt;chr&gt;</th><th scope=col>&lt;chr&gt;</th><th scope=col>&lt;chr&gt;</th><th scope=col>&lt;lgl&gt;</th><th scope=col>&lt;int&gt;</th><th scope=col>&lt;dbl&gt;</th><th scope=col>&lt;dbl&gt;</th><th scope=col>&lt;lgl&gt;</th><th scope=col>&lt;dbl&gt;</th><th scope=col>&lt;dbl&gt;</th><th scope=col>&lt;dbl&gt;</th><th scope=col>&lt;dbl&gt;</th></tr>\n",
       "</thead>\n",
       "<tbody>\n",
       "\t<tr><td> 1</td><td>Arizona</td><td>2018-19</td><td>A J Mitchell Elementary                 </td><td>Public </td><td>Nogales     </td><td>Santa Cruz</td><td>NA</td><td> 51</td><td>100</td><td>-1</td><td>NA</td><td>  NA</td><td>  NA</td><td>31.34782</td><td>-110.9380</td></tr>\n",
       "\t<tr><td> 2</td><td>Arizona</td><td>2018-19</td><td>Academy Del Sol                         </td><td>Charter</td><td>Tucson      </td><td>Pima      </td><td>NA</td><td> 22</td><td>100</td><td>-1</td><td>NA</td><td>  NA</td><td>  NA</td><td>32.22192</td><td>-110.8961</td></tr>\n",
       "\t<tr><td> 3</td><td>Arizona</td><td>2018-19</td><td>Academy Del Sol - Hope                  </td><td>Charter</td><td>Tucson      </td><td>Pima      </td><td>NA</td><td> 85</td><td>100</td><td>-1</td><td>NA</td><td>  NA</td><td>  NA</td><td>32.13049</td><td>-111.1170</td></tr>\n",
       "\t<tr><td> 4</td><td>Arizona</td><td>2018-19</td><td>Academy Of Mathematics And Science South</td><td>Charter</td><td>Phoenix     </td><td>Maricopa  </td><td>NA</td><td> 60</td><td>100</td><td>-1</td><td>NA</td><td>  NA</td><td>  NA</td><td>33.48545</td><td>-112.1306</td></tr>\n",
       "\t<tr><td> 5</td><td>Arizona</td><td>2018-19</td><td>Acclaim Academy                         </td><td>Charter</td><td>Phoenix     </td><td>Maricopa  </td><td>NA</td><td> 43</td><td>100</td><td>-1</td><td>NA</td><td>2.33</td><td>2.33</td><td>33.49562</td><td>-112.2247</td></tr>\n",
       "\t<tr><td> 6</td><td>Arizona</td><td>2018-19</td><td>Alfred F Garcia                         </td><td>Public </td><td>Phoenix     </td><td>Maricopa  </td><td>NA</td><td> 36</td><td>100</td><td>-1</td><td>NA</td><td>  NA</td><td>  NA</td><td>33.43532</td><td>-112.1168</td></tr>\n",
       "\t<tr><td> 7</td><td>Arizona</td><td>2018-19</td><td>All Aboard Charter                      </td><td>Charter</td><td>Phoenix     </td><td>Maricopa  </td><td>NA</td><td> 24</td><td>100</td><td>-1</td><td>NA</td><td>  NA</td><td>4.17</td><td>33.52332</td><td>-112.1338</td></tr>\n",
       "\t<tr><td> 8</td><td>Arizona</td><td>2018-19</td><td>Amerischools Academy - Yuma South Campus</td><td>Charter</td><td>Yuma        </td><td>Yuma      </td><td>NA</td><td> 22</td><td>100</td><td>-1</td><td>NA</td><td>  NA</td><td>  NA</td><td>32.69001</td><td>-114.6234</td></tr>\n",
       "\t<tr><td> 9</td><td>Arizona</td><td>2018-19</td><td>Arizona Cultural Academy                </td><td>Private</td><td>Phoenix     </td><td>Maricopa  </td><td>NA</td><td> 26</td><td>100</td><td>-1</td><td>NA</td><td>  NA</td><td>  NA</td><td>33.37562</td><td>-111.9929</td></tr>\n",
       "\t<tr><td>10</td><td>Arizona</td><td>2018-19</td><td>Arizona Desert Elementary               </td><td>Public </td><td>San Luis    </td><td>Yuma      </td><td>NA</td><td> 78</td><td>100</td><td>-1</td><td>NA</td><td>  NA</td><td>  NA</td><td>32.50061</td><td>-114.7810</td></tr>\n",
       "\t<tr><td>10</td><td>Arizona</td><td>2018-19</td><td>Arizona Desert Elementary               </td><td>Public </td><td>San Luis    </td><td>Yuma      </td><td>NA</td><td> 78</td><td>100</td><td>-1</td><td>NA</td><td>  NA</td><td>  NA</td><td>33.44966</td><td>-112.2508</td></tr>\n",
       "\t<tr><td>11</td><td>Arizona</td><td>2018-19</td><td>Arthur M Hamilton                       </td><td>Public </td><td>Phoenix     </td><td>Maricopa  </td><td>NA</td><td> 35</td><td>100</td><td>-1</td><td>NA</td><td>2.86</td><td>  NA</td><td>33.43051</td><td>-112.1031</td></tr>\n",
       "\t<tr><td>12</td><td>Arizona</td><td>2018-19</td><td>Bella Vista Elementary                  </td><td>Public </td><td>Sierra Vista</td><td>Cochise   </td><td>NA</td><td> 54</td><td>100</td><td>-1</td><td>NA</td><td>  NA</td><td>  NA</td><td>31.56339</td><td>-110.2811</td></tr>\n",
       "\t<tr><td>13</td><td>Arizona</td><td>2018-19</td><td>Blenman Elementary                      </td><td>Public </td><td>Tucson      </td><td>Pima      </td><td>NA</td><td> 54</td><td>100</td><td>-1</td><td>NA</td><td>7.41</td><td>  NA</td><td>32.24293</td><td>-110.9275</td></tr>\n",
       "\t<tr><td>14</td><td>Arizona</td><td>2018-19</td><td>Booth Magnet Elementary                 </td><td>Public </td><td>Tucson      </td><td>Pima      </td><td>NA</td><td> 34</td><td>100</td><td>-1</td><td>NA</td><td>  NA</td><td>  NA</td><td>32.21458</td><td>-110.8375</td></tr>\n",
       "\t<tr><td>15</td><td>Arizona</td><td>2018-19</td><td>Butterfield Elementary                  </td><td>Public </td><td>Tucson      </td><td>Pima      </td><td>NA</td><td> 57</td><td>100</td><td>-1</td><td>NA</td><td>  NA</td><td>  NA</td><td>32.34597</td><td>-111.0391</td></tr>\n",
       "\t<tr><td>15</td><td>Arizona</td><td>2018-19</td><td>Butterfield Elementary                  </td><td>Public </td><td>Tucson      </td><td>Pima      </td><td>NA</td><td> 57</td><td>100</td><td>-1</td><td>NA</td><td>  NA</td><td>  NA</td><td>33.05872</td><td>-112.0380</td></tr>\n",
       "\t<tr><td>16</td><td>Arizona</td><td>2018-19</td><td>Carrillo Intermediate Magnet            </td><td>Public </td><td>Tucson      </td><td>Pima      </td><td>NA</td><td> 47</td><td>100</td><td>-1</td><td>NA</td><td>2.13</td><td>  NA</td><td>32.21529</td><td>-110.9747</td></tr>\n",
       "\t<tr><td>17</td><td>Arizona</td><td>2018-19</td><td>Casa Blanca Community                   </td><td>Public </td><td>Bapchule    </td><td>Pinal     </td><td>NA</td><td> 54</td><td>100</td><td>-1</td><td>NA</td><td>  NA</td><td>  NA</td><td>33.11753</td><td>-111.8861</td></tr>\n",
       "\t<tr><td>18</td><td>Arizona</td><td>2018-19</td><td>Cesar Chavez Elementary                 </td><td>Public </td><td>San Luis    </td><td>Yuma      </td><td>NA</td><td> 98</td><td>100</td><td>-1</td><td>NA</td><td>  NA</td><td>  NA</td><td>32.49832</td><td>-114.7531</td></tr>\n",
       "\t<tr><td>19</td><td>Arizona</td><td>2018-19</td><td>Challenger Elementary                   </td><td>Public </td><td>Nogales     </td><td>Santa Cruz</td><td>NA</td><td> 67</td><td>100</td><td>-1</td><td>NA</td><td>  NA</td><td>  NA</td><td>31.37216</td><td>-110.9146</td></tr>\n",
       "\t<tr><td>20</td><td>Arizona</td><td>2018-19</td><td>Chinle Elementary                       </td><td>Public </td><td>Chinle      </td><td>Apache    </td><td>NA</td><td> 58</td><td>100</td><td>-1</td><td>NA</td><td>  NA</td><td>  NA</td><td>36.15146</td><td>-109.5863</td></tr>\n",
       "\t<tr><td>21</td><td>Arizona</td><td>2018-19</td><td>Copper Creek Elementary                 </td><td>Public </td><td>Tucson      </td><td>Pima      </td><td>NA</td><td> 55</td><td>100</td><td>-1</td><td>NA</td><td>  NA</td><td>  NA</td><td>32.41810</td><td>-110.9863</td></tr>\n",
       "\t<tr><td>21</td><td>Arizona</td><td>2018-19</td><td>Copper Creek Elementary                 </td><td>Public </td><td>Tucson      </td><td>Pima      </td><td>NA</td><td> 55</td><td>100</td><td>-1</td><td>NA</td><td>  NA</td><td>  NA</td><td>33.68457</td><td>-112.2104</td></tr>\n",
       "\t<tr><td>22</td><td>Arizona</td><td>2018-19</td><td>Copper Rim Elementary                   </td><td>Public </td><td>Globe       </td><td>Gila      </td><td>NA</td><td>134</td><td>100</td><td>-1</td><td>NA</td><td>  NA</td><td>4.48</td><td>33.40302</td><td>-110.7717</td></tr>\n",
       "\t<tr><td>23</td><td>Arizona</td><td>2018-19</td><td>Countryside Elementary                  </td><td>Public </td><td>Surprise    </td><td>Maricopa  </td><td>NA</td><td> 47</td><td>100</td><td>-1</td><td>NA</td><td>  NA</td><td>  NA</td><td>33.62156</td><td>-112.3876</td></tr>\n",
       "\t<tr><td>24</td><td>Arizona</td><td>2018-19</td><td>Cradleboard                             </td><td>Public </td><td>Whiteriver  </td><td>Navajo    </td><td>NA</td><td> 59</td><td>100</td><td>-1</td><td>NA</td><td>  NA</td><td>  NA</td><td>33.92001</td><td>-109.9483</td></tr>\n",
       "\t<tr><td>25</td><td>Arizona</td><td>2018-19</td><td>Davidson Elementary                     </td><td>Public </td><td>Tucson      </td><td>Pima      </td><td>NA</td><td> 34</td><td>100</td><td>-1</td><td>NA</td><td>  NA</td><td>  NA</td><td>32.26964</td><td>-110.9081</td></tr>\n",
       "\t<tr><td>26</td><td>Arizona</td><td>2018-19</td><td>Desert Oasis Elementary School-85037    </td><td>Public </td><td>Phoenix     </td><td>Maricopa  </td><td>NA</td><td> 63</td><td>100</td><td>-1</td><td>NA</td><td>  NA</td><td>  NA</td><td>33.46565</td><td>-112.2496</td></tr>\n",
       "\t<tr><td>27</td><td>Arizona</td><td>2018-19</td><td>Desert View Elementary                  </td><td>Public </td><td>San Luis    </td><td>Yuma      </td><td>NA</td><td> 92</td><td>100</td><td>-1</td><td>NA</td><td>  NA</td><td>  NA</td><td>32.50520</td><td>-114.7529</td></tr>\n",
       "\t<tr><td>⋮</td><td>⋮</td><td>⋮</td><td>⋮</td><td>⋮</td><td>⋮</td><td>⋮</td><td>⋮</td><td>⋮</td><td>⋮</td><td>⋮</td><td>⋮</td><td>⋮</td><td>⋮</td><td>⋮</td><td>⋮</td></tr>\n",
       "\t<tr><td>1488</td><td>Wisconsin</td><td>2018-19</td><td>Rolling Acres Amish           </td><td>NA</td><td>Blair           </td><td>Trempealeau</td><td>NA</td><td>NA</td><td>-1</td><td>-1</td><td>NA</td><td>NA</td><td>NA</td><td>44.35690</td><td>-91.25634</td></tr>\n",
       "\t<tr><td>1489</td><td>Wisconsin</td><td>2018-19</td><td>Rothschild Elementary         </td><td>NA</td><td>Rothschild      </td><td>Marathon   </td><td>NA</td><td>NA</td><td>-1</td><td>-1</td><td>NA</td><td>NA</td><td>NA</td><td>44.89213</td><td>-89.61808</td></tr>\n",
       "\t<tr><td>1490</td><td>Wisconsin</td><td>2018-19</td><td>Rural Virtual Academy         </td><td>NA</td><td>Medford         </td><td>Taylor     </td><td>NA</td><td>NA</td><td>-1</td><td>-1</td><td>NA</td><td>NA</td><td>NA</td><td>45.12938</td><td>-90.33601</td></tr>\n",
       "\t<tr><td>1491</td><td>Wisconsin</td><td>2018-19</td><td>Saint Boniface Grade          </td><td>NA</td><td>Waumandee       </td><td>Trempealeau</td><td>NA</td><td>NA</td><td>-1</td><td>-1</td><td>NA</td><td>NA</td><td>NA</td><td>43.23491</td><td>-88.16155</td></tr>\n",
       "\t<tr><td>1491</td><td>Wisconsin</td><td>2018-19</td><td>Saint Boniface Grade          </td><td>NA</td><td>Waumandee       </td><td>Trempealeau</td><td>NA</td><td>NA</td><td>-1</td><td>-1</td><td>NA</td><td>NA</td><td>NA</td><td>44.30280</td><td>-91.70590</td></tr>\n",
       "\t<tr><td>1492</td><td>Wisconsin</td><td>2018-19</td><td>Saint Charles Education Ctr   </td><td>NA</td><td>Milwaukee       </td><td>Milwaukee  </td><td>NA</td><td>NA</td><td>-1</td><td>-1</td><td>NA</td><td>NA</td><td>NA</td><td>43.05025</td><td>-88.00822</td></tr>\n",
       "\t<tr><td>1493</td><td>Wisconsin</td><td>2018-19</td><td>Saint Francis Solanus         </td><td>NA</td><td>Stone Lake      </td><td>Sawyer     </td><td>NA</td><td>NA</td><td>-1</td><td>-1</td><td>NA</td><td>NA</td><td>NA</td><td>45.89033</td><td>-91.38617</td></tr>\n",
       "\t<tr><td>1494</td><td>Wisconsin</td><td>2018-19</td><td>Saint Francis Xavier Gr       </td><td>NA</td><td>Cross Plains    </td><td>Dane       </td><td>NA</td><td>NA</td><td>-1</td><td>-1</td><td>NA</td><td>NA</td><td>NA</td><td>43.11982</td><td>-89.63463</td></tr>\n",
       "\t<tr><td>1495</td><td>Wisconsin</td><td>2018-19</td><td>Saint John the Evangelist     </td><td>NA</td><td>Spring Green    </td><td>Sauk       </td><td>NA</td><td>NA</td><td>-1</td><td>-1</td><td>NA</td><td>NA</td><td>NA</td><td>43.17806</td><td>-90.06931</td></tr>\n",
       "\t<tr><td>1496</td><td>Wisconsin</td><td>2018-19</td><td>Saint Joseph Catholic Academy </td><td>NA</td><td>Kenosha         </td><td>Kenosha    </td><td>NA</td><td>NA</td><td>-1</td><td>-1</td><td>NA</td><td>NA</td><td>NA</td><td>42.57082</td><td>-87.83796</td></tr>\n",
       "\t<tr><td>1497</td><td>Wisconsin</td><td>2018-19</td><td>Saint Luke Grade              </td><td>NA</td><td>Plain           </td><td>Sauk       </td><td>NA</td><td>NA</td><td>-1</td><td>-1</td><td>NA</td><td>NA</td><td>NA</td><td>43.27626</td><td>-90.04927</td></tr>\n",
       "\t<tr><td>1498</td><td>Wisconsin</td><td>2018-19</td><td>Saint Pauls Evang Luth        </td><td>NA</td><td>Wisconsin Rapids</td><td>Wood       </td><td>NA</td><td>NA</td><td>-1</td><td>-1</td><td>NA</td><td>NA</td><td>NA</td><td>44.39345</td><td>-89.84040</td></tr>\n",
       "\t<tr><td>1499</td><td>Wisconsin</td><td>2018-19</td><td>Saint Peters Lutheran Grade Sc</td><td>NA</td><td>Reedsburg       </td><td>Sauk       </td><td>NA</td><td>NA</td><td>-1</td><td>-1</td><td>NA</td><td>NA</td><td>NA</td><td>43.53474</td><td>-90.00470</td></tr>\n",
       "\t<tr><td>1500</td><td>Wisconsin</td><td>2018-19</td><td>Sandy Oak Amish               </td><td>NA</td><td>Rockland        </td><td>La Crosse  </td><td>NA</td><td>NA</td><td>-1</td><td>-1</td><td>NA</td><td>NA</td><td>NA</td><td>43.89496</td><td>-90.91736</td></tr>\n",
       "\t<tr><td>1501</td><td>Wisconsin</td><td>2018-19</td><td>Silver Ten Amish              </td><td>NA</td><td>Medford         </td><td>Taylor     </td><td>NA</td><td>NA</td><td>-1</td><td>-1</td><td>NA</td><td>NA</td><td>NA</td><td>45.07175</td><td>-90.47416</td></tr>\n",
       "\t<tr><td>1502</td><td>Wisconsin</td><td>2018-19</td><td>Sonnenberg                    </td><td>NA</td><td>Pleasant Prairie</td><td>Kenosha    </td><td>NA</td><td>NA</td><td>-1</td><td>-1</td><td>NA</td><td>NA</td><td>NA</td><td>42.52238</td><td>-87.89529</td></tr>\n",
       "\t<tr><td>1503</td><td>Wisconsin</td><td>2018-19</td><td>Sunny Meadow Amish            </td><td>NA</td><td>Chetek          </td><td>Barron     </td><td>NA</td><td>NA</td><td>-1</td><td>-1</td><td>NA</td><td>NA</td><td>NA</td><td>45.26397</td><td>-91.74362</td></tr>\n",
       "\t<tr><td>1504</td><td>Wisconsin</td><td>2018-19</td><td>Sunny Valley Amish            </td><td>NA</td><td>Tomah           </td><td>Monroe     </td><td>NA</td><td>NA</td><td>-1</td><td>-1</td><td>NA</td><td>NA</td><td>NA</td><td>43.86218</td><td>-90.41345</td></tr>\n",
       "\t<tr><td>1505</td><td>Wisconsin</td><td>2018-19</td><td>Texas Bufkin Christian Academy</td><td>NA</td><td>Milwaukee       </td><td>Milwaukee  </td><td>NA</td><td>NA</td><td>-1</td><td>-1</td><td>NA</td><td>NA</td><td>NA</td><td>43.04100</td><td>-87.95693</td></tr>\n",
       "\t<tr><td>1506</td><td>Wisconsin</td><td>2018-19</td><td>Toad Hill Children's House    </td><td>NA</td><td>Madison         </td><td>Dane       </td><td>NA</td><td>NA</td><td>-1</td><td>-1</td><td>NA</td><td>NA</td><td>NA</td><td>43.09910</td><td>-89.30673</td></tr>\n",
       "\t<tr><td>1507</td><td>Wisconsin</td><td>2018-19</td><td>Tri-Center                    </td><td>NA</td><td>West Bend       </td><td>Washington </td><td>NA</td><td>NA</td><td>-1</td><td>-1</td><td>NA</td><td>NA</td><td>NA</td><td>43.42512</td><td>-88.17360</td></tr>\n",
       "\t<tr><td>1508</td><td>Wisconsin</td><td>2018-19</td><td>Tuckertown Amish              </td><td>NA</td><td>Hillpoint       </td><td>Sauk       </td><td>NA</td><td>NA</td><td>-1</td><td>-1</td><td>NA</td><td>NA</td><td>NA</td><td>43.38945</td><td>-90.19546</td></tr>\n",
       "\t<tr><td>1509</td><td>Wisconsin</td><td>2018-19</td><td>Univ of Islam                 </td><td>NA</td><td>Milwaukee       </td><td>Milwaukee  </td><td>NA</td><td>NA</td><td>-1</td><td>-1</td><td>NA</td><td>NA</td><td>NA</td><td>43.07444</td><td>-87.88185</td></tr>\n",
       "\t<tr><td>1510</td><td>Wisconsin</td><td>2018-19</td><td>Valley View Amish             </td><td>NA</td><td>La Valle        </td><td>Sauk       </td><td>NA</td><td>NA</td><td>-1</td><td>-1</td><td>NA</td><td>NA</td><td>NA</td><td>43.57807</td><td>-90.13535</td></tr>\n",
       "\t<tr><td>1511</td><td>Wisconsin</td><td>2018-19</td><td>Vance Creek Amish             </td><td>NA</td><td>Prairie Farm    </td><td>Barron     </td><td>NA</td><td>NA</td><td>-1</td><td>-1</td><td>NA</td><td>NA</td><td>NA</td><td>45.23259</td><td>-91.98306</td></tr>\n",
       "\t<tr><td>1512</td><td>Wisconsin</td><td>2018-19</td><td>Walnut Grove Amish            </td><td>NA</td><td>Hillpoint       </td><td>Sauk       </td><td>NA</td><td>NA</td><td>-1</td><td>-1</td><td>NA</td><td>NA</td><td>NA</td><td>43.42379</td><td>-90.11252</td></tr>\n",
       "\t<tr><td>1513</td><td>Wisconsin</td><td>2018-19</td><td>Wauwatosa Virtual Academy     </td><td>NA</td><td>Wauwatosa       </td><td>Milwaukee  </td><td>NA</td><td>NA</td><td>-1</td><td>-1</td><td>NA</td><td>NA</td><td>NA</td><td>43.05936</td><td>-88.06352</td></tr>\n",
       "\t<tr><td>1514</td><td>Wisconsin</td><td>2018-19</td><td>Weston Elementary             </td><td>NA</td><td>Weston          </td><td>Marathon   </td><td>NA</td><td>NA</td><td>-1</td><td>-1</td><td>NA</td><td>NA</td><td>NA</td><td>43.48024</td><td>-90.19062</td></tr>\n",
       "\t<tr><td>1514</td><td>Wisconsin</td><td>2018-19</td><td>Weston Elementary             </td><td>NA</td><td>Weston          </td><td>Marathon   </td><td>NA</td><td>NA</td><td>-1</td><td>-1</td><td>NA</td><td>NA</td><td>NA</td><td>44.91034</td><td>-89.57160</td></tr>\n",
       "\t<tr><td>1515</td><td>Wisconsin</td><td>2018-19</td><td>WISE Academy                  </td><td>NA</td><td>Nekoosa         </td><td>Wood       </td><td>NA</td><td>NA</td><td>-1</td><td>-1</td><td>NA</td><td>NA</td><td>NA</td><td>44.30934</td><td>-89.91668</td></tr>\n",
       "</tbody>\n",
       "</table>\n"
      ],
      "text/latex": [
       "A data.frame: 66113 × 16\n",
       "\\begin{tabular}{llllllllllllllll}\n",
       " index & state & year & name & type & city & county & district & enroll & mmr & overall & xrel & xmed & xper & lat & lng\\\\\n",
       " <int> & <chr> & <chr> & <chr> & <chr> & <chr> & <chr> & <lgl> & <int> & <dbl> & <dbl> & <lgl> & <dbl> & <dbl> & <dbl> & <dbl>\\\\\n",
       "\\hline\n",
       "\t  1 & Arizona & 2018-19 & A J Mitchell Elementary                  & Public  & Nogales      & Santa Cruz & NA &  51 & 100 & -1 & NA &   NA &   NA & 31.34782 & -110.9380\\\\\n",
       "\t  2 & Arizona & 2018-19 & Academy Del Sol                          & Charter & Tucson       & Pima       & NA &  22 & 100 & -1 & NA &   NA &   NA & 32.22192 & -110.8961\\\\\n",
       "\t  3 & Arizona & 2018-19 & Academy Del Sol - Hope                   & Charter & Tucson       & Pima       & NA &  85 & 100 & -1 & NA &   NA &   NA & 32.13049 & -111.1170\\\\\n",
       "\t  4 & Arizona & 2018-19 & Academy Of Mathematics And Science South & Charter & Phoenix      & Maricopa   & NA &  60 & 100 & -1 & NA &   NA &   NA & 33.48545 & -112.1306\\\\\n",
       "\t  5 & Arizona & 2018-19 & Acclaim Academy                          & Charter & Phoenix      & Maricopa   & NA &  43 & 100 & -1 & NA & 2.33 & 2.33 & 33.49562 & -112.2247\\\\\n",
       "\t  6 & Arizona & 2018-19 & Alfred F Garcia                          & Public  & Phoenix      & Maricopa   & NA &  36 & 100 & -1 & NA &   NA &   NA & 33.43532 & -112.1168\\\\\n",
       "\t  7 & Arizona & 2018-19 & All Aboard Charter                       & Charter & Phoenix      & Maricopa   & NA &  24 & 100 & -1 & NA &   NA & 4.17 & 33.52332 & -112.1338\\\\\n",
       "\t  8 & Arizona & 2018-19 & Amerischools Academy - Yuma South Campus & Charter & Yuma         & Yuma       & NA &  22 & 100 & -1 & NA &   NA &   NA & 32.69001 & -114.6234\\\\\n",
       "\t  9 & Arizona & 2018-19 & Arizona Cultural Academy                 & Private & Phoenix      & Maricopa   & NA &  26 & 100 & -1 & NA &   NA &   NA & 33.37562 & -111.9929\\\\\n",
       "\t 10 & Arizona & 2018-19 & Arizona Desert Elementary                & Public  & San Luis     & Yuma       & NA &  78 & 100 & -1 & NA &   NA &   NA & 32.50061 & -114.7810\\\\\n",
       "\t 10 & Arizona & 2018-19 & Arizona Desert Elementary                & Public  & San Luis     & Yuma       & NA &  78 & 100 & -1 & NA &   NA &   NA & 33.44966 & -112.2508\\\\\n",
       "\t 11 & Arizona & 2018-19 & Arthur M Hamilton                        & Public  & Phoenix      & Maricopa   & NA &  35 & 100 & -1 & NA & 2.86 &   NA & 33.43051 & -112.1031\\\\\n",
       "\t 12 & Arizona & 2018-19 & Bella Vista Elementary                   & Public  & Sierra Vista & Cochise    & NA &  54 & 100 & -1 & NA &   NA &   NA & 31.56339 & -110.2811\\\\\n",
       "\t 13 & Arizona & 2018-19 & Blenman Elementary                       & Public  & Tucson       & Pima       & NA &  54 & 100 & -1 & NA & 7.41 &   NA & 32.24293 & -110.9275\\\\\n",
       "\t 14 & Arizona & 2018-19 & Booth Magnet Elementary                  & Public  & Tucson       & Pima       & NA &  34 & 100 & -1 & NA &   NA &   NA & 32.21458 & -110.8375\\\\\n",
       "\t 15 & Arizona & 2018-19 & Butterfield Elementary                   & Public  & Tucson       & Pima       & NA &  57 & 100 & -1 & NA &   NA &   NA & 32.34597 & -111.0391\\\\\n",
       "\t 15 & Arizona & 2018-19 & Butterfield Elementary                   & Public  & Tucson       & Pima       & NA &  57 & 100 & -1 & NA &   NA &   NA & 33.05872 & -112.0380\\\\\n",
       "\t 16 & Arizona & 2018-19 & Carrillo Intermediate Magnet             & Public  & Tucson       & Pima       & NA &  47 & 100 & -1 & NA & 2.13 &   NA & 32.21529 & -110.9747\\\\\n",
       "\t 17 & Arizona & 2018-19 & Casa Blanca Community                    & Public  & Bapchule     & Pinal      & NA &  54 & 100 & -1 & NA &   NA &   NA & 33.11753 & -111.8861\\\\\n",
       "\t 18 & Arizona & 2018-19 & Cesar Chavez Elementary                  & Public  & San Luis     & Yuma       & NA &  98 & 100 & -1 & NA &   NA &   NA & 32.49832 & -114.7531\\\\\n",
       "\t 19 & Arizona & 2018-19 & Challenger Elementary                    & Public  & Nogales      & Santa Cruz & NA &  67 & 100 & -1 & NA &   NA &   NA & 31.37216 & -110.9146\\\\\n",
       "\t 20 & Arizona & 2018-19 & Chinle Elementary                        & Public  & Chinle       & Apache     & NA &  58 & 100 & -1 & NA &   NA &   NA & 36.15146 & -109.5863\\\\\n",
       "\t 21 & Arizona & 2018-19 & Copper Creek Elementary                  & Public  & Tucson       & Pima       & NA &  55 & 100 & -1 & NA &   NA &   NA & 32.41810 & -110.9863\\\\\n",
       "\t 21 & Arizona & 2018-19 & Copper Creek Elementary                  & Public  & Tucson       & Pima       & NA &  55 & 100 & -1 & NA &   NA &   NA & 33.68457 & -112.2104\\\\\n",
       "\t 22 & Arizona & 2018-19 & Copper Rim Elementary                    & Public  & Globe        & Gila       & NA & 134 & 100 & -1 & NA &   NA & 4.48 & 33.40302 & -110.7717\\\\\n",
       "\t 23 & Arizona & 2018-19 & Countryside Elementary                   & Public  & Surprise     & Maricopa   & NA &  47 & 100 & -1 & NA &   NA &   NA & 33.62156 & -112.3876\\\\\n",
       "\t 24 & Arizona & 2018-19 & Cradleboard                              & Public  & Whiteriver   & Navajo     & NA &  59 & 100 & -1 & NA &   NA &   NA & 33.92001 & -109.9483\\\\\n",
       "\t 25 & Arizona & 2018-19 & Davidson Elementary                      & Public  & Tucson       & Pima       & NA &  34 & 100 & -1 & NA &   NA &   NA & 32.26964 & -110.9081\\\\\n",
       "\t 26 & Arizona & 2018-19 & Desert Oasis Elementary School-85037     & Public  & Phoenix      & Maricopa   & NA &  63 & 100 & -1 & NA &   NA &   NA & 33.46565 & -112.2496\\\\\n",
       "\t 27 & Arizona & 2018-19 & Desert View Elementary                   & Public  & San Luis     & Yuma       & NA &  92 & 100 & -1 & NA &   NA &   NA & 32.50520 & -114.7529\\\\\n",
       "\t ⋮ & ⋮ & ⋮ & ⋮ & ⋮ & ⋮ & ⋮ & ⋮ & ⋮ & ⋮ & ⋮ & ⋮ & ⋮ & ⋮ & ⋮ & ⋮\\\\\n",
       "\t 1488 & Wisconsin & 2018-19 & Rolling Acres Amish            & NA & Blair            & Trempealeau & NA & NA & -1 & -1 & NA & NA & NA & 44.35690 & -91.25634\\\\\n",
       "\t 1489 & Wisconsin & 2018-19 & Rothschild Elementary          & NA & Rothschild       & Marathon    & NA & NA & -1 & -1 & NA & NA & NA & 44.89213 & -89.61808\\\\\n",
       "\t 1490 & Wisconsin & 2018-19 & Rural Virtual Academy          & NA & Medford          & Taylor      & NA & NA & -1 & -1 & NA & NA & NA & 45.12938 & -90.33601\\\\\n",
       "\t 1491 & Wisconsin & 2018-19 & Saint Boniface Grade           & NA & Waumandee        & Trempealeau & NA & NA & -1 & -1 & NA & NA & NA & 43.23491 & -88.16155\\\\\n",
       "\t 1491 & Wisconsin & 2018-19 & Saint Boniface Grade           & NA & Waumandee        & Trempealeau & NA & NA & -1 & -1 & NA & NA & NA & 44.30280 & -91.70590\\\\\n",
       "\t 1492 & Wisconsin & 2018-19 & Saint Charles Education Ctr    & NA & Milwaukee        & Milwaukee   & NA & NA & -1 & -1 & NA & NA & NA & 43.05025 & -88.00822\\\\\n",
       "\t 1493 & Wisconsin & 2018-19 & Saint Francis Solanus          & NA & Stone Lake       & Sawyer      & NA & NA & -1 & -1 & NA & NA & NA & 45.89033 & -91.38617\\\\\n",
       "\t 1494 & Wisconsin & 2018-19 & Saint Francis Xavier Gr        & NA & Cross Plains     & Dane        & NA & NA & -1 & -1 & NA & NA & NA & 43.11982 & -89.63463\\\\\n",
       "\t 1495 & Wisconsin & 2018-19 & Saint John the Evangelist      & NA & Spring Green     & Sauk        & NA & NA & -1 & -1 & NA & NA & NA & 43.17806 & -90.06931\\\\\n",
       "\t 1496 & Wisconsin & 2018-19 & Saint Joseph Catholic Academy  & NA & Kenosha          & Kenosha     & NA & NA & -1 & -1 & NA & NA & NA & 42.57082 & -87.83796\\\\\n",
       "\t 1497 & Wisconsin & 2018-19 & Saint Luke Grade               & NA & Plain            & Sauk        & NA & NA & -1 & -1 & NA & NA & NA & 43.27626 & -90.04927\\\\\n",
       "\t 1498 & Wisconsin & 2018-19 & Saint Pauls Evang Luth         & NA & Wisconsin Rapids & Wood        & NA & NA & -1 & -1 & NA & NA & NA & 44.39345 & -89.84040\\\\\n",
       "\t 1499 & Wisconsin & 2018-19 & Saint Peters Lutheran Grade Sc & NA & Reedsburg        & Sauk        & NA & NA & -1 & -1 & NA & NA & NA & 43.53474 & -90.00470\\\\\n",
       "\t 1500 & Wisconsin & 2018-19 & Sandy Oak Amish                & NA & Rockland         & La Crosse   & NA & NA & -1 & -1 & NA & NA & NA & 43.89496 & -90.91736\\\\\n",
       "\t 1501 & Wisconsin & 2018-19 & Silver Ten Amish               & NA & Medford          & Taylor      & NA & NA & -1 & -1 & NA & NA & NA & 45.07175 & -90.47416\\\\\n",
       "\t 1502 & Wisconsin & 2018-19 & Sonnenberg                     & NA & Pleasant Prairie & Kenosha     & NA & NA & -1 & -1 & NA & NA & NA & 42.52238 & -87.89529\\\\\n",
       "\t 1503 & Wisconsin & 2018-19 & Sunny Meadow Amish             & NA & Chetek           & Barron      & NA & NA & -1 & -1 & NA & NA & NA & 45.26397 & -91.74362\\\\\n",
       "\t 1504 & Wisconsin & 2018-19 & Sunny Valley Amish             & NA & Tomah            & Monroe      & NA & NA & -1 & -1 & NA & NA & NA & 43.86218 & -90.41345\\\\\n",
       "\t 1505 & Wisconsin & 2018-19 & Texas Bufkin Christian Academy & NA & Milwaukee        & Milwaukee   & NA & NA & -1 & -1 & NA & NA & NA & 43.04100 & -87.95693\\\\\n",
       "\t 1506 & Wisconsin & 2018-19 & Toad Hill Children's House     & NA & Madison          & Dane        & NA & NA & -1 & -1 & NA & NA & NA & 43.09910 & -89.30673\\\\\n",
       "\t 1507 & Wisconsin & 2018-19 & Tri-Center                     & NA & West Bend        & Washington  & NA & NA & -1 & -1 & NA & NA & NA & 43.42512 & -88.17360\\\\\n",
       "\t 1508 & Wisconsin & 2018-19 & Tuckertown Amish               & NA & Hillpoint        & Sauk        & NA & NA & -1 & -1 & NA & NA & NA & 43.38945 & -90.19546\\\\\n",
       "\t 1509 & Wisconsin & 2018-19 & Univ of Islam                  & NA & Milwaukee        & Milwaukee   & NA & NA & -1 & -1 & NA & NA & NA & 43.07444 & -87.88185\\\\\n",
       "\t 1510 & Wisconsin & 2018-19 & Valley View Amish              & NA & La Valle         & Sauk        & NA & NA & -1 & -1 & NA & NA & NA & 43.57807 & -90.13535\\\\\n",
       "\t 1511 & Wisconsin & 2018-19 & Vance Creek Amish              & NA & Prairie Farm     & Barron      & NA & NA & -1 & -1 & NA & NA & NA & 45.23259 & -91.98306\\\\\n",
       "\t 1512 & Wisconsin & 2018-19 & Walnut Grove Amish             & NA & Hillpoint        & Sauk        & NA & NA & -1 & -1 & NA & NA & NA & 43.42379 & -90.11252\\\\\n",
       "\t 1513 & Wisconsin & 2018-19 & Wauwatosa Virtual Academy      & NA & Wauwatosa        & Milwaukee   & NA & NA & -1 & -1 & NA & NA & NA & 43.05936 & -88.06352\\\\\n",
       "\t 1514 & Wisconsin & 2018-19 & Weston Elementary              & NA & Weston           & Marathon    & NA & NA & -1 & -1 & NA & NA & NA & 43.48024 & -90.19062\\\\\n",
       "\t 1514 & Wisconsin & 2018-19 & Weston Elementary              & NA & Weston           & Marathon    & NA & NA & -1 & -1 & NA & NA & NA & 44.91034 & -89.57160\\\\\n",
       "\t 1515 & Wisconsin & 2018-19 & WISE Academy                   & NA & Nekoosa          & Wood        & NA & NA & -1 & -1 & NA & NA & NA & 44.30934 & -89.91668\\\\\n",
       "\\end{tabular}\n"
      ],
      "text/markdown": [
       "\n",
       "A data.frame: 66113 × 16\n",
       "\n",
       "| index &lt;int&gt; | state &lt;chr&gt; | year &lt;chr&gt; | name &lt;chr&gt; | type &lt;chr&gt; | city &lt;chr&gt; | county &lt;chr&gt; | district &lt;lgl&gt; | enroll &lt;int&gt; | mmr &lt;dbl&gt; | overall &lt;dbl&gt; | xrel &lt;lgl&gt; | xmed &lt;dbl&gt; | xper &lt;dbl&gt; | lat &lt;dbl&gt; | lng &lt;dbl&gt; |\n",
       "|---|---|---|---|---|---|---|---|---|---|---|---|---|---|---|---|\n",
       "|  1 | Arizona | 2018-19 | A J Mitchell Elementary                  | Public  | Nogales      | Santa Cruz | NA |  51 | 100 | -1 | NA |   NA |   NA | 31.34782 | -110.9380 |\n",
       "|  2 | Arizona | 2018-19 | Academy Del Sol                          | Charter | Tucson       | Pima       | NA |  22 | 100 | -1 | NA |   NA |   NA | 32.22192 | -110.8961 |\n",
       "|  3 | Arizona | 2018-19 | Academy Del Sol - Hope                   | Charter | Tucson       | Pima       | NA |  85 | 100 | -1 | NA |   NA |   NA | 32.13049 | -111.1170 |\n",
       "|  4 | Arizona | 2018-19 | Academy Of Mathematics And Science South | Charter | Phoenix      | Maricopa   | NA |  60 | 100 | -1 | NA |   NA |   NA | 33.48545 | -112.1306 |\n",
       "|  5 | Arizona | 2018-19 | Acclaim Academy                          | Charter | Phoenix      | Maricopa   | NA |  43 | 100 | -1 | NA | 2.33 | 2.33 | 33.49562 | -112.2247 |\n",
       "|  6 | Arizona | 2018-19 | Alfred F Garcia                          | Public  | Phoenix      | Maricopa   | NA |  36 | 100 | -1 | NA |   NA |   NA | 33.43532 | -112.1168 |\n",
       "|  7 | Arizona | 2018-19 | All Aboard Charter                       | Charter | Phoenix      | Maricopa   | NA |  24 | 100 | -1 | NA |   NA | 4.17 | 33.52332 | -112.1338 |\n",
       "|  8 | Arizona | 2018-19 | Amerischools Academy - Yuma South Campus | Charter | Yuma         | Yuma       | NA |  22 | 100 | -1 | NA |   NA |   NA | 32.69001 | -114.6234 |\n",
       "|  9 | Arizona | 2018-19 | Arizona Cultural Academy                 | Private | Phoenix      | Maricopa   | NA |  26 | 100 | -1 | NA |   NA |   NA | 33.37562 | -111.9929 |\n",
       "| 10 | Arizona | 2018-19 | Arizona Desert Elementary                | Public  | San Luis     | Yuma       | NA |  78 | 100 | -1 | NA |   NA |   NA | 32.50061 | -114.7810 |\n",
       "| 10 | Arizona | 2018-19 | Arizona Desert Elementary                | Public  | San Luis     | Yuma       | NA |  78 | 100 | -1 | NA |   NA |   NA | 33.44966 | -112.2508 |\n",
       "| 11 | Arizona | 2018-19 | Arthur M Hamilton                        | Public  | Phoenix      | Maricopa   | NA |  35 | 100 | -1 | NA | 2.86 |   NA | 33.43051 | -112.1031 |\n",
       "| 12 | Arizona | 2018-19 | Bella Vista Elementary                   | Public  | Sierra Vista | Cochise    | NA |  54 | 100 | -1 | NA |   NA |   NA | 31.56339 | -110.2811 |\n",
       "| 13 | Arizona | 2018-19 | Blenman Elementary                       | Public  | Tucson       | Pima       | NA |  54 | 100 | -1 | NA | 7.41 |   NA | 32.24293 | -110.9275 |\n",
       "| 14 | Arizona | 2018-19 | Booth Magnet Elementary                  | Public  | Tucson       | Pima       | NA |  34 | 100 | -1 | NA |   NA |   NA | 32.21458 | -110.8375 |\n",
       "| 15 | Arizona | 2018-19 | Butterfield Elementary                   | Public  | Tucson       | Pima       | NA |  57 | 100 | -1 | NA |   NA |   NA | 32.34597 | -111.0391 |\n",
       "| 15 | Arizona | 2018-19 | Butterfield Elementary                   | Public  | Tucson       | Pima       | NA |  57 | 100 | -1 | NA |   NA |   NA | 33.05872 | -112.0380 |\n",
       "| 16 | Arizona | 2018-19 | Carrillo Intermediate Magnet             | Public  | Tucson       | Pima       | NA |  47 | 100 | -1 | NA | 2.13 |   NA | 32.21529 | -110.9747 |\n",
       "| 17 | Arizona | 2018-19 | Casa Blanca Community                    | Public  | Bapchule     | Pinal      | NA |  54 | 100 | -1 | NA |   NA |   NA | 33.11753 | -111.8861 |\n",
       "| 18 | Arizona | 2018-19 | Cesar Chavez Elementary                  | Public  | San Luis     | Yuma       | NA |  98 | 100 | -1 | NA |   NA |   NA | 32.49832 | -114.7531 |\n",
       "| 19 | Arizona | 2018-19 | Challenger Elementary                    | Public  | Nogales      | Santa Cruz | NA |  67 | 100 | -1 | NA |   NA |   NA | 31.37216 | -110.9146 |\n",
       "| 20 | Arizona | 2018-19 | Chinle Elementary                        | Public  | Chinle       | Apache     | NA |  58 | 100 | -1 | NA |   NA |   NA | 36.15146 | -109.5863 |\n",
       "| 21 | Arizona | 2018-19 | Copper Creek Elementary                  | Public  | Tucson       | Pima       | NA |  55 | 100 | -1 | NA |   NA |   NA | 32.41810 | -110.9863 |\n",
       "| 21 | Arizona | 2018-19 | Copper Creek Elementary                  | Public  | Tucson       | Pima       | NA |  55 | 100 | -1 | NA |   NA |   NA | 33.68457 | -112.2104 |\n",
       "| 22 | Arizona | 2018-19 | Copper Rim Elementary                    | Public  | Globe        | Gila       | NA | 134 | 100 | -1 | NA |   NA | 4.48 | 33.40302 | -110.7717 |\n",
       "| 23 | Arizona | 2018-19 | Countryside Elementary                   | Public  | Surprise     | Maricopa   | NA |  47 | 100 | -1 | NA |   NA |   NA | 33.62156 | -112.3876 |\n",
       "| 24 | Arizona | 2018-19 | Cradleboard                              | Public  | Whiteriver   | Navajo     | NA |  59 | 100 | -1 | NA |   NA |   NA | 33.92001 | -109.9483 |\n",
       "| 25 | Arizona | 2018-19 | Davidson Elementary                      | Public  | Tucson       | Pima       | NA |  34 | 100 | -1 | NA |   NA |   NA | 32.26964 | -110.9081 |\n",
       "| 26 | Arizona | 2018-19 | Desert Oasis Elementary School-85037     | Public  | Phoenix      | Maricopa   | NA |  63 | 100 | -1 | NA |   NA |   NA | 33.46565 | -112.2496 |\n",
       "| 27 | Arizona | 2018-19 | Desert View Elementary                   | Public  | San Luis     | Yuma       | NA |  92 | 100 | -1 | NA |   NA |   NA | 32.50520 | -114.7529 |\n",
       "| ⋮ | ⋮ | ⋮ | ⋮ | ⋮ | ⋮ | ⋮ | ⋮ | ⋮ | ⋮ | ⋮ | ⋮ | ⋮ | ⋮ | ⋮ | ⋮ |\n",
       "| 1488 | Wisconsin | 2018-19 | Rolling Acres Amish            | NA | Blair            | Trempealeau | NA | NA | -1 | -1 | NA | NA | NA | 44.35690 | -91.25634 |\n",
       "| 1489 | Wisconsin | 2018-19 | Rothschild Elementary          | NA | Rothschild       | Marathon    | NA | NA | -1 | -1 | NA | NA | NA | 44.89213 | -89.61808 |\n",
       "| 1490 | Wisconsin | 2018-19 | Rural Virtual Academy          | NA | Medford          | Taylor      | NA | NA | -1 | -1 | NA | NA | NA | 45.12938 | -90.33601 |\n",
       "| 1491 | Wisconsin | 2018-19 | Saint Boniface Grade           | NA | Waumandee        | Trempealeau | NA | NA | -1 | -1 | NA | NA | NA | 43.23491 | -88.16155 |\n",
       "| 1491 | Wisconsin | 2018-19 | Saint Boniface Grade           | NA | Waumandee        | Trempealeau | NA | NA | -1 | -1 | NA | NA | NA | 44.30280 | -91.70590 |\n",
       "| 1492 | Wisconsin | 2018-19 | Saint Charles Education Ctr    | NA | Milwaukee        | Milwaukee   | NA | NA | -1 | -1 | NA | NA | NA | 43.05025 | -88.00822 |\n",
       "| 1493 | Wisconsin | 2018-19 | Saint Francis Solanus          | NA | Stone Lake       | Sawyer      | NA | NA | -1 | -1 | NA | NA | NA | 45.89033 | -91.38617 |\n",
       "| 1494 | Wisconsin | 2018-19 | Saint Francis Xavier Gr        | NA | Cross Plains     | Dane        | NA | NA | -1 | -1 | NA | NA | NA | 43.11982 | -89.63463 |\n",
       "| 1495 | Wisconsin | 2018-19 | Saint John the Evangelist      | NA | Spring Green     | Sauk        | NA | NA | -1 | -1 | NA | NA | NA | 43.17806 | -90.06931 |\n",
       "| 1496 | Wisconsin | 2018-19 | Saint Joseph Catholic Academy  | NA | Kenosha          | Kenosha     | NA | NA | -1 | -1 | NA | NA | NA | 42.57082 | -87.83796 |\n",
       "| 1497 | Wisconsin | 2018-19 | Saint Luke Grade               | NA | Plain            | Sauk        | NA | NA | -1 | -1 | NA | NA | NA | 43.27626 | -90.04927 |\n",
       "| 1498 | Wisconsin | 2018-19 | Saint Pauls Evang Luth         | NA | Wisconsin Rapids | Wood        | NA | NA | -1 | -1 | NA | NA | NA | 44.39345 | -89.84040 |\n",
       "| 1499 | Wisconsin | 2018-19 | Saint Peters Lutheran Grade Sc | NA | Reedsburg        | Sauk        | NA | NA | -1 | -1 | NA | NA | NA | 43.53474 | -90.00470 |\n",
       "| 1500 | Wisconsin | 2018-19 | Sandy Oak Amish                | NA | Rockland         | La Crosse   | NA | NA | -1 | -1 | NA | NA | NA | 43.89496 | -90.91736 |\n",
       "| 1501 | Wisconsin | 2018-19 | Silver Ten Amish               | NA | Medford          | Taylor      | NA | NA | -1 | -1 | NA | NA | NA | 45.07175 | -90.47416 |\n",
       "| 1502 | Wisconsin | 2018-19 | Sonnenberg                     | NA | Pleasant Prairie | Kenosha     | NA | NA | -1 | -1 | NA | NA | NA | 42.52238 | -87.89529 |\n",
       "| 1503 | Wisconsin | 2018-19 | Sunny Meadow Amish             | NA | Chetek           | Barron      | NA | NA | -1 | -1 | NA | NA | NA | 45.26397 | -91.74362 |\n",
       "| 1504 | Wisconsin | 2018-19 | Sunny Valley Amish             | NA | Tomah            | Monroe      | NA | NA | -1 | -1 | NA | NA | NA | 43.86218 | -90.41345 |\n",
       "| 1505 | Wisconsin | 2018-19 | Texas Bufkin Christian Academy | NA | Milwaukee        | Milwaukee   | NA | NA | -1 | -1 | NA | NA | NA | 43.04100 | -87.95693 |\n",
       "| 1506 | Wisconsin | 2018-19 | Toad Hill Children's House     | NA | Madison          | Dane        | NA | NA | -1 | -1 | NA | NA | NA | 43.09910 | -89.30673 |\n",
       "| 1507 | Wisconsin | 2018-19 | Tri-Center                     | NA | West Bend        | Washington  | NA | NA | -1 | -1 | NA | NA | NA | 43.42512 | -88.17360 |\n",
       "| 1508 | Wisconsin | 2018-19 | Tuckertown Amish               | NA | Hillpoint        | Sauk        | NA | NA | -1 | -1 | NA | NA | NA | 43.38945 | -90.19546 |\n",
       "| 1509 | Wisconsin | 2018-19 | Univ of Islam                  | NA | Milwaukee        | Milwaukee   | NA | NA | -1 | -1 | NA | NA | NA | 43.07444 | -87.88185 |\n",
       "| 1510 | Wisconsin | 2018-19 | Valley View Amish              | NA | La Valle         | Sauk        | NA | NA | -1 | -1 | NA | NA | NA | 43.57807 | -90.13535 |\n",
       "| 1511 | Wisconsin | 2018-19 | Vance Creek Amish              | NA | Prairie Farm     | Barron      | NA | NA | -1 | -1 | NA | NA | NA | 45.23259 | -91.98306 |\n",
       "| 1512 | Wisconsin | 2018-19 | Walnut Grove Amish             | NA | Hillpoint        | Sauk        | NA | NA | -1 | -1 | NA | NA | NA | 43.42379 | -90.11252 |\n",
       "| 1513 | Wisconsin | 2018-19 | Wauwatosa Virtual Academy      | NA | Wauwatosa        | Milwaukee   | NA | NA | -1 | -1 | NA | NA | NA | 43.05936 | -88.06352 |\n",
       "| 1514 | Wisconsin | 2018-19 | Weston Elementary              | NA | Weston           | Marathon    | NA | NA | -1 | -1 | NA | NA | NA | 43.48024 | -90.19062 |\n",
       "| 1514 | Wisconsin | 2018-19 | Weston Elementary              | NA | Weston           | Marathon    | NA | NA | -1 | -1 | NA | NA | NA | 44.91034 | -89.57160 |\n",
       "| 1515 | Wisconsin | 2018-19 | WISE Academy                   | NA | Nekoosa          | Wood        | NA | NA | -1 | -1 | NA | NA | NA | 44.30934 | -89.91668 |\n",
       "\n"
      ],
      "text/plain": [
       "      index state     year    name                                     type   \n",
       "1      1    Arizona   2018-19 A J Mitchell Elementary                  Public \n",
       "2      2    Arizona   2018-19 Academy Del Sol                          Charter\n",
       "3      3    Arizona   2018-19 Academy Del Sol - Hope                   Charter\n",
       "4      4    Arizona   2018-19 Academy Of Mathematics And Science South Charter\n",
       "5      5    Arizona   2018-19 Acclaim Academy                          Charter\n",
       "6      6    Arizona   2018-19 Alfred F Garcia                          Public \n",
       "7      7    Arizona   2018-19 All Aboard Charter                       Charter\n",
       "8      8    Arizona   2018-19 Amerischools Academy - Yuma South Campus Charter\n",
       "9      9    Arizona   2018-19 Arizona Cultural Academy                 Private\n",
       "10    10    Arizona   2018-19 Arizona Desert Elementary                Public \n",
       "11    10    Arizona   2018-19 Arizona Desert Elementary                Public \n",
       "12    11    Arizona   2018-19 Arthur M Hamilton                        Public \n",
       "13    12    Arizona   2018-19 Bella Vista Elementary                   Public \n",
       "14    13    Arizona   2018-19 Blenman Elementary                       Public \n",
       "15    14    Arizona   2018-19 Booth Magnet Elementary                  Public \n",
       "16    15    Arizona   2018-19 Butterfield Elementary                   Public \n",
       "17    15    Arizona   2018-19 Butterfield Elementary                   Public \n",
       "18    16    Arizona   2018-19 Carrillo Intermediate Magnet             Public \n",
       "19    17    Arizona   2018-19 Casa Blanca Community                    Public \n",
       "20    18    Arizona   2018-19 Cesar Chavez Elementary                  Public \n",
       "21    19    Arizona   2018-19 Challenger Elementary                    Public \n",
       "22    20    Arizona   2018-19 Chinle Elementary                        Public \n",
       "23    21    Arizona   2018-19 Copper Creek Elementary                  Public \n",
       "24    21    Arizona   2018-19 Copper Creek Elementary                  Public \n",
       "25    22    Arizona   2018-19 Copper Rim Elementary                    Public \n",
       "26    23    Arizona   2018-19 Countryside Elementary                   Public \n",
       "27    24    Arizona   2018-19 Cradleboard                              Public \n",
       "28    25    Arizona   2018-19 Davidson Elementary                      Public \n",
       "29    26    Arizona   2018-19 Desert Oasis Elementary School-85037     Public \n",
       "30    27    Arizona   2018-19 Desert View Elementary                   Public \n",
       "⋮     ⋮     ⋮         ⋮       ⋮                                        ⋮      \n",
       "66084 1488  Wisconsin 2018-19 Rolling Acres Amish                      NA     \n",
       "66085 1489  Wisconsin 2018-19 Rothschild Elementary                    NA     \n",
       "66086 1490  Wisconsin 2018-19 Rural Virtual Academy                    NA     \n",
       "66087 1491  Wisconsin 2018-19 Saint Boniface Grade                     NA     \n",
       "66088 1491  Wisconsin 2018-19 Saint Boniface Grade                     NA     \n",
       "66089 1492  Wisconsin 2018-19 Saint Charles Education Ctr              NA     \n",
       "66090 1493  Wisconsin 2018-19 Saint Francis Solanus                    NA     \n",
       "66091 1494  Wisconsin 2018-19 Saint Francis Xavier Gr                  NA     \n",
       "66092 1495  Wisconsin 2018-19 Saint John the Evangelist                NA     \n",
       "66093 1496  Wisconsin 2018-19 Saint Joseph Catholic Academy            NA     \n",
       "66094 1497  Wisconsin 2018-19 Saint Luke Grade                         NA     \n",
       "66095 1498  Wisconsin 2018-19 Saint Pauls Evang Luth                   NA     \n",
       "66096 1499  Wisconsin 2018-19 Saint Peters Lutheran Grade Sc           NA     \n",
       "66097 1500  Wisconsin 2018-19 Sandy Oak Amish                          NA     \n",
       "66098 1501  Wisconsin 2018-19 Silver Ten Amish                         NA     \n",
       "66099 1502  Wisconsin 2018-19 Sonnenberg                               NA     \n",
       "66100 1503  Wisconsin 2018-19 Sunny Meadow Amish                       NA     \n",
       "66101 1504  Wisconsin 2018-19 Sunny Valley Amish                       NA     \n",
       "66102 1505  Wisconsin 2018-19 Texas Bufkin Christian Academy           NA     \n",
       "66103 1506  Wisconsin 2018-19 Toad Hill Children's House               NA     \n",
       "66104 1507  Wisconsin 2018-19 Tri-Center                               NA     \n",
       "66105 1508  Wisconsin 2018-19 Tuckertown Amish                         NA     \n",
       "66106 1509  Wisconsin 2018-19 Univ of Islam                            NA     \n",
       "66107 1510  Wisconsin 2018-19 Valley View Amish                        NA     \n",
       "66108 1511  Wisconsin 2018-19 Vance Creek Amish                        NA     \n",
       "66109 1512  Wisconsin 2018-19 Walnut Grove Amish                       NA     \n",
       "66110 1513  Wisconsin 2018-19 Wauwatosa Virtual Academy                NA     \n",
       "66111 1514  Wisconsin 2018-19 Weston Elementary                        NA     \n",
       "66112 1514  Wisconsin 2018-19 Weston Elementary                        NA     \n",
       "66113 1515  Wisconsin 2018-19 WISE Academy                             NA     \n",
       "      city             county      district enroll mmr overall xrel xmed xper\n",
       "1     Nogales          Santa Cruz  NA        51    100 -1      NA     NA   NA\n",
       "2     Tucson           Pima        NA        22    100 -1      NA     NA   NA\n",
       "3     Tucson           Pima        NA        85    100 -1      NA     NA   NA\n",
       "4     Phoenix          Maricopa    NA        60    100 -1      NA     NA   NA\n",
       "5     Phoenix          Maricopa    NA        43    100 -1      NA   2.33 2.33\n",
       "6     Phoenix          Maricopa    NA        36    100 -1      NA     NA   NA\n",
       "7     Phoenix          Maricopa    NA        24    100 -1      NA     NA 4.17\n",
       "8     Yuma             Yuma        NA        22    100 -1      NA     NA   NA\n",
       "9     Phoenix          Maricopa    NA        26    100 -1      NA     NA   NA\n",
       "10    San Luis         Yuma        NA        78    100 -1      NA     NA   NA\n",
       "11    San Luis         Yuma        NA        78    100 -1      NA     NA   NA\n",
       "12    Phoenix          Maricopa    NA        35    100 -1      NA   2.86   NA\n",
       "13    Sierra Vista     Cochise     NA        54    100 -1      NA     NA   NA\n",
       "14    Tucson           Pima        NA        54    100 -1      NA   7.41   NA\n",
       "15    Tucson           Pima        NA        34    100 -1      NA     NA   NA\n",
       "16    Tucson           Pima        NA        57    100 -1      NA     NA   NA\n",
       "17    Tucson           Pima        NA        57    100 -1      NA     NA   NA\n",
       "18    Tucson           Pima        NA        47    100 -1      NA   2.13   NA\n",
       "19    Bapchule         Pinal       NA        54    100 -1      NA     NA   NA\n",
       "20    San Luis         Yuma        NA        98    100 -1      NA     NA   NA\n",
       "21    Nogales          Santa Cruz  NA        67    100 -1      NA     NA   NA\n",
       "22    Chinle           Apache      NA        58    100 -1      NA     NA   NA\n",
       "23    Tucson           Pima        NA        55    100 -1      NA     NA   NA\n",
       "24    Tucson           Pima        NA        55    100 -1      NA     NA   NA\n",
       "25    Globe            Gila        NA       134    100 -1      NA     NA 4.48\n",
       "26    Surprise         Maricopa    NA        47    100 -1      NA     NA   NA\n",
       "27    Whiteriver       Navajo      NA        59    100 -1      NA     NA   NA\n",
       "28    Tucson           Pima        NA        34    100 -1      NA     NA   NA\n",
       "29    Phoenix          Maricopa    NA        63    100 -1      NA     NA   NA\n",
       "30    San Luis         Yuma        NA        92    100 -1      NA     NA   NA\n",
       "⋮     ⋮                ⋮           ⋮        ⋮      ⋮   ⋮       ⋮    ⋮    ⋮   \n",
       "66084 Blair            Trempealeau NA       NA     -1  -1      NA   NA   NA  \n",
       "66085 Rothschild       Marathon    NA       NA     -1  -1      NA   NA   NA  \n",
       "66086 Medford          Taylor      NA       NA     -1  -1      NA   NA   NA  \n",
       "66087 Waumandee        Trempealeau NA       NA     -1  -1      NA   NA   NA  \n",
       "66088 Waumandee        Trempealeau NA       NA     -1  -1      NA   NA   NA  \n",
       "66089 Milwaukee        Milwaukee   NA       NA     -1  -1      NA   NA   NA  \n",
       "66090 Stone Lake       Sawyer      NA       NA     -1  -1      NA   NA   NA  \n",
       "66091 Cross Plains     Dane        NA       NA     -1  -1      NA   NA   NA  \n",
       "66092 Spring Green     Sauk        NA       NA     -1  -1      NA   NA   NA  \n",
       "66093 Kenosha          Kenosha     NA       NA     -1  -1      NA   NA   NA  \n",
       "66094 Plain            Sauk        NA       NA     -1  -1      NA   NA   NA  \n",
       "66095 Wisconsin Rapids Wood        NA       NA     -1  -1      NA   NA   NA  \n",
       "66096 Reedsburg        Sauk        NA       NA     -1  -1      NA   NA   NA  \n",
       "66097 Rockland         La Crosse   NA       NA     -1  -1      NA   NA   NA  \n",
       "66098 Medford          Taylor      NA       NA     -1  -1      NA   NA   NA  \n",
       "66099 Pleasant Prairie Kenosha     NA       NA     -1  -1      NA   NA   NA  \n",
       "66100 Chetek           Barron      NA       NA     -1  -1      NA   NA   NA  \n",
       "66101 Tomah            Monroe      NA       NA     -1  -1      NA   NA   NA  \n",
       "66102 Milwaukee        Milwaukee   NA       NA     -1  -1      NA   NA   NA  \n",
       "66103 Madison          Dane        NA       NA     -1  -1      NA   NA   NA  \n",
       "66104 West Bend        Washington  NA       NA     -1  -1      NA   NA   NA  \n",
       "66105 Hillpoint        Sauk        NA       NA     -1  -1      NA   NA   NA  \n",
       "66106 Milwaukee        Milwaukee   NA       NA     -1  -1      NA   NA   NA  \n",
       "66107 La Valle         Sauk        NA       NA     -1  -1      NA   NA   NA  \n",
       "66108 Prairie Farm     Barron      NA       NA     -1  -1      NA   NA   NA  \n",
       "66109 Hillpoint        Sauk        NA       NA     -1  -1      NA   NA   NA  \n",
       "66110 Wauwatosa        Milwaukee   NA       NA     -1  -1      NA   NA   NA  \n",
       "66111 Weston           Marathon    NA       NA     -1  -1      NA   NA   NA  \n",
       "66112 Weston           Marathon    NA       NA     -1  -1      NA   NA   NA  \n",
       "66113 Nekoosa          Wood        NA       NA     -1  -1      NA   NA   NA  \n",
       "      lat      lng      \n",
       "1     31.34782 -110.9380\n",
       "2     32.22192 -110.8961\n",
       "3     32.13049 -111.1170\n",
       "4     33.48545 -112.1306\n",
       "5     33.49562 -112.2247\n",
       "6     33.43532 -112.1168\n",
       "7     33.52332 -112.1338\n",
       "8     32.69001 -114.6234\n",
       "9     33.37562 -111.9929\n",
       "10    32.50061 -114.7810\n",
       "11    33.44966 -112.2508\n",
       "12    33.43051 -112.1031\n",
       "13    31.56339 -110.2811\n",
       "14    32.24293 -110.9275\n",
       "15    32.21458 -110.8375\n",
       "16    32.34597 -111.0391\n",
       "17    33.05872 -112.0380\n",
       "18    32.21529 -110.9747\n",
       "19    33.11753 -111.8861\n",
       "20    32.49832 -114.7531\n",
       "21    31.37216 -110.9146\n",
       "22    36.15146 -109.5863\n",
       "23    32.41810 -110.9863\n",
       "24    33.68457 -112.2104\n",
       "25    33.40302 -110.7717\n",
       "26    33.62156 -112.3876\n",
       "27    33.92001 -109.9483\n",
       "28    32.26964 -110.9081\n",
       "29    33.46565 -112.2496\n",
       "30    32.50520 -114.7529\n",
       "⋮     ⋮        ⋮        \n",
       "66084 44.35690 -91.25634\n",
       "66085 44.89213 -89.61808\n",
       "66086 45.12938 -90.33601\n",
       "66087 43.23491 -88.16155\n",
       "66088 44.30280 -91.70590\n",
       "66089 43.05025 -88.00822\n",
       "66090 45.89033 -91.38617\n",
       "66091 43.11982 -89.63463\n",
       "66092 43.17806 -90.06931\n",
       "66093 42.57082 -87.83796\n",
       "66094 43.27626 -90.04927\n",
       "66095 44.39345 -89.84040\n",
       "66096 43.53474 -90.00470\n",
       "66097 43.89496 -90.91736\n",
       "66098 45.07175 -90.47416\n",
       "66099 42.52238 -87.89529\n",
       "66100 45.26397 -91.74362\n",
       "66101 43.86218 -90.41345\n",
       "66102 43.04100 -87.95693\n",
       "66103 43.09910 -89.30673\n",
       "66104 43.42512 -88.17360\n",
       "66105 43.38945 -90.19546\n",
       "66106 43.07444 -87.88185\n",
       "66107 43.57807 -90.13535\n",
       "66108 45.23259 -91.98306\n",
       "66109 43.42379 -90.11252\n",
       "66110 43.05936 -88.06352\n",
       "66111 43.48024 -90.19062\n",
       "66112 44.91034 -89.57160\n",
       "66113 44.30934 -89.91668"
      ]
     },
     "metadata": {},
     "output_type": "display_data"
    }
   ],
   "source": [
    "df.vax"
   ]
  },
  {
   "cell_type": "code",
   "execution_count": 4,
   "id": "1a625bec-6cfa-4034-8ae2-87d42e33e8b9",
   "metadata": {
    "tags": []
   },
   "outputs": [
    {
     "data": {
      "text/html": [
       "<style>\n",
       ".list-inline {list-style: none; margin:0; padding: 0}\n",
       ".list-inline>li {display: inline-block}\n",
       ".list-inline>li:not(:last-child)::after {content: \"\\00b7\"; padding: 0 .5ex}\n",
       "</style>\n",
       "<ol class=list-inline><li>'index'</li><li>'state'</li><li>'year'</li><li>'name'</li><li>'type'</li><li>'city'</li><li>'county'</li><li>'district'</li><li>'enroll'</li><li>'mmr'</li><li>'overall'</li><li>'xrel'</li><li>'xmed'</li><li>'xper'</li><li>'lat'</li><li>'lng'</li></ol>\n"
      ],
      "text/latex": [
       "\\begin{enumerate*}\n",
       "\\item 'index'\n",
       "\\item 'state'\n",
       "\\item 'year'\n",
       "\\item 'name'\n",
       "\\item 'type'\n",
       "\\item 'city'\n",
       "\\item 'county'\n",
       "\\item 'district'\n",
       "\\item 'enroll'\n",
       "\\item 'mmr'\n",
       "\\item 'overall'\n",
       "\\item 'xrel'\n",
       "\\item 'xmed'\n",
       "\\item 'xper'\n",
       "\\item 'lat'\n",
       "\\item 'lng'\n",
       "\\end{enumerate*}\n"
      ],
      "text/markdown": [
       "1. 'index'\n",
       "2. 'state'\n",
       "3. 'year'\n",
       "4. 'name'\n",
       "5. 'type'\n",
       "6. 'city'\n",
       "7. 'county'\n",
       "8. 'district'\n",
       "9. 'enroll'\n",
       "10. 'mmr'\n",
       "11. 'overall'\n",
       "12. 'xrel'\n",
       "13. 'xmed'\n",
       "14. 'xper'\n",
       "15. 'lat'\n",
       "16. 'lng'\n",
       "\n",
       "\n"
      ],
      "text/plain": [
       " [1] \"index\"    \"state\"    \"year\"     \"name\"     \"type\"     \"city\"    \n",
       " [7] \"county\"   \"district\" \"enroll\"   \"mmr\"      \"overall\"  \"xrel\"    \n",
       "[13] \"xmed\"     \"xper\"     \"lat\"      \"lng\"     "
      ]
     },
     "metadata": {},
     "output_type": "display_data"
    }
   ],
   "source": [
    "df.vax |> colnames()"
   ]
  },
  {
   "cell_type": "markdown",
   "id": "feb89cec-8cda-457d-95cf-89dbfa932ab4",
   "metadata": {},
   "source": [
    "The `mmr` column has holds 🤒 measles, mumps, rubella 🤒 vaccination rates for students in each respective school. **If the `mmr` value is not available for a school the `mmr` value is set to -1 in this data set.** \n",
    "\n",
    "The target `mmr` vaccination rate as [recommended by the CDC](https://www.cdc.gov/mmwr/preview/mmwrhtml/mm5632a3.htm) for schools is 95%. \n",
    "\n",
    "**Calculate the fraction of schools per state that have vaccination rates greater than the CDC 95%. Capture the output as a table called `df_vacc_rates`.**\n",
    "\n",
    "You'll need to do use `filter`, `group_by`, and `summarize`. \n",
    "\n",
    "I.e.\n",
    "1. Filter out schools that don't report `mmr` vaccination rate (keep schools where `mmr >= 0`).\n",
    "1. Group the data by `state`.\n",
    "1. Summarize fracion of vaccination rates above 95%.\n",
    "\n",
    "💡Remember `n()` stands for the number or records in a group. Also, `sum(mmr >= 95, na.rm=TRUE)` will count the number of values above or equal to 95.💡"
   ]
  },
  {
   "cell_type": "code",
   "execution_count": 5,
   "id": "0ba9a861-00fc-4392-a67d-cddbd5a994e0",
   "metadata": {},
   "outputs": [
    {
     "data": {
      "text/html": [
       "<table class=\"dataframe\">\n",
       "<caption>A tibble: 21 × 2</caption>\n",
       "<thead>\n",
       "\t<tr><th scope=col>state</th><th scope=col>frac</th></tr>\n",
       "\t<tr><th scope=col>&lt;chr&gt;</th><th scope=col>&lt;dbl&gt;</th></tr>\n",
       "</thead>\n",
       "<tbody>\n",
       "\t<tr><td>Arizona      </td><td>0.506404782</td></tr>\n",
       "\t<tr><td>Arkansas     </td><td>0.003527337</td></tr>\n",
       "\t<tr><td>California   </td><td>0.888506151</td></tr>\n",
       "\t<tr><td>Colorado     </td><td>0.623092236</td></tr>\n",
       "\t<tr><td>Connecticut  </td><td>0.811544992</td></tr>\n",
       "\t<tr><td>Illinois     </td><td>0.896825397</td></tr>\n",
       "\t<tr><td>Maine        </td><td>0.473389356</td></tr>\n",
       "\t<tr><td>Massachusetts</td><td>0.865828092</td></tr>\n",
       "\t<tr><td>Minnesota    </td><td>0.473948525</td></tr>\n",
       "\t<tr><td>Missouri     </td><td>0.680000000</td></tr>\n",
       "\t<tr><td>Montana      </td><td>0.708812261</td></tr>\n",
       "\t<tr><td>New York     </td><td>0.859822073</td></tr>\n",
       "\t<tr><td>North Dakota </td><td>0.455555556</td></tr>\n",
       "\t<tr><td>Ohio         </td><td>0.491606715</td></tr>\n",
       "\t<tr><td>Oregon       </td><td>0.593052109</td></tr>\n",
       "\t<tr><td>Pennsylvania </td><td>0.834966478</td></tr>\n",
       "\t<tr><td>South Dakota </td><td>0.742627346</td></tr>\n",
       "\t<tr><td>Texas        </td><td>0.626387176</td></tr>\n",
       "\t<tr><td>Utah         </td><td>0.679933665</td></tr>\n",
       "\t<tr><td>Vermont      </td><td>0.683431953</td></tr>\n",
       "\t<tr><td>Washington   </td><td>0.326592518</td></tr>\n",
       "</tbody>\n",
       "</table>\n"
      ],
      "text/latex": [
       "A tibble: 21 × 2\n",
       "\\begin{tabular}{ll}\n",
       " state & frac\\\\\n",
       " <chr> & <dbl>\\\\\n",
       "\\hline\n",
       "\t Arizona       & 0.506404782\\\\\n",
       "\t Arkansas      & 0.003527337\\\\\n",
       "\t California    & 0.888506151\\\\\n",
       "\t Colorado      & 0.623092236\\\\\n",
       "\t Connecticut   & 0.811544992\\\\\n",
       "\t Illinois      & 0.896825397\\\\\n",
       "\t Maine         & 0.473389356\\\\\n",
       "\t Massachusetts & 0.865828092\\\\\n",
       "\t Minnesota     & 0.473948525\\\\\n",
       "\t Missouri      & 0.680000000\\\\\n",
       "\t Montana       & 0.708812261\\\\\n",
       "\t New York      & 0.859822073\\\\\n",
       "\t North Dakota  & 0.455555556\\\\\n",
       "\t Ohio          & 0.491606715\\\\\n",
       "\t Oregon        & 0.593052109\\\\\n",
       "\t Pennsylvania  & 0.834966478\\\\\n",
       "\t South Dakota  & 0.742627346\\\\\n",
       "\t Texas         & 0.626387176\\\\\n",
       "\t Utah          & 0.679933665\\\\\n",
       "\t Vermont       & 0.683431953\\\\\n",
       "\t Washington    & 0.326592518\\\\\n",
       "\\end{tabular}\n"
      ],
      "text/markdown": [
       "\n",
       "A tibble: 21 × 2\n",
       "\n",
       "| state &lt;chr&gt; | frac &lt;dbl&gt; |\n",
       "|---|---|\n",
       "| Arizona       | 0.506404782 |\n",
       "| Arkansas      | 0.003527337 |\n",
       "| California    | 0.888506151 |\n",
       "| Colorado      | 0.623092236 |\n",
       "| Connecticut   | 0.811544992 |\n",
       "| Illinois      | 0.896825397 |\n",
       "| Maine         | 0.473389356 |\n",
       "| Massachusetts | 0.865828092 |\n",
       "| Minnesota     | 0.473948525 |\n",
       "| Missouri      | 0.680000000 |\n",
       "| Montana       | 0.708812261 |\n",
       "| New York      | 0.859822073 |\n",
       "| North Dakota  | 0.455555556 |\n",
       "| Ohio          | 0.491606715 |\n",
       "| Oregon        | 0.593052109 |\n",
       "| Pennsylvania  | 0.834966478 |\n",
       "| South Dakota  | 0.742627346 |\n",
       "| Texas         | 0.626387176 |\n",
       "| Utah          | 0.679933665 |\n",
       "| Vermont       | 0.683431953 |\n",
       "| Washington    | 0.326592518 |\n",
       "\n"
      ],
      "text/plain": [
       "   state         frac       \n",
       "1  Arizona       0.506404782\n",
       "2  Arkansas      0.003527337\n",
       "3  California    0.888506151\n",
       "4  Colorado      0.623092236\n",
       "5  Connecticut   0.811544992\n",
       "6  Illinois      0.896825397\n",
       "7  Maine         0.473389356\n",
       "8  Massachusetts 0.865828092\n",
       "9  Minnesota     0.473948525\n",
       "10 Missouri      0.680000000\n",
       "11 Montana       0.708812261\n",
       "12 New York      0.859822073\n",
       "13 North Dakota  0.455555556\n",
       "14 Ohio          0.491606715\n",
       "15 Oregon        0.593052109\n",
       "16 Pennsylvania  0.834966478\n",
       "17 South Dakota  0.742627346\n",
       "18 Texas         0.626387176\n",
       "19 Utah          0.679933665\n",
       "20 Vermont       0.683431953\n",
       "21 Washington    0.326592518"
      ]
     },
     "metadata": {},
     "output_type": "display_data"
    }
   ],
   "source": [
    "# create the df_vacc_rates here\n",
    "\n",
    "df_vacc_rates = df.vax |> filter(mmr >= 0) |> group_by(state) |>  summarize(frac = sum(mmr >= 95, na.rm=TRUE)/n())\n",
    "    \n",
    "df_vacc_rates"
   ]
  },
  {
   "cell_type": "markdown",
   "id": "900ddf7f-d801-4a70-9453-73bdd3277344",
   "metadata": {},
   "source": [
    "Which state (of those that report `mmr`) has the smallest fraction of schools above the CDC target vaccination rate of 95%?  "
   ]
  },
  {
   "cell_type": "code",
   "execution_count": 6,
   "id": "13812611-a534-46c2-aae6-0f6c645273e0",
   "metadata": {},
   "outputs": [
    {
     "data": {
      "text/html": [
       "<table class=\"dataframe\">\n",
       "<caption>A tibble: 1 × 2</caption>\n",
       "<thead>\n",
       "\t<tr><th scope=col>state</th><th scope=col>frac</th></tr>\n",
       "\t<tr><th scope=col>&lt;chr&gt;</th><th scope=col>&lt;dbl&gt;</th></tr>\n",
       "</thead>\n",
       "<tbody>\n",
       "\t<tr><td>Arkansas</td><td>0.003527337</td></tr>\n",
       "</tbody>\n",
       "</table>\n"
      ],
      "text/latex": [
       "A tibble: 1 × 2\n",
       "\\begin{tabular}{ll}\n",
       " state & frac\\\\\n",
       " <chr> & <dbl>\\\\\n",
       "\\hline\n",
       "\t Arkansas & 0.003527337\\\\\n",
       "\\end{tabular}\n"
      ],
      "text/markdown": [
       "\n",
       "A tibble: 1 × 2\n",
       "\n",
       "| state &lt;chr&gt; | frac &lt;dbl&gt; |\n",
       "|---|---|\n",
       "| Arkansas | 0.003527337 |\n",
       "\n"
      ],
      "text/plain": [
       "  state    frac       \n",
       "1 Arkansas 0.003527337"
      ]
     },
     "metadata": {},
     "output_type": "display_data"
    }
   ],
   "source": [
    "df_vacc_rates |> arrange(frac) |> head(1)"
   ]
  },
  {
   "cell_type": "markdown",
   "id": "2866ca03-1f87-466e-ab0a-dd69140496e6",
   "metadata": {},
   "source": [
    "**Make a ECDF plot of the school vaccination rates in North Carolina.** Use the `overall` column which reports the \"overall\" vaccination rate at each school.\n",
    "\n",
    "❗️Remember, you can calculate the `y` value for ECDF charts using `mutate`, and `cume_dist`."
   ]
  },
  {
   "cell_type": "code",
   "execution_count": 7,
   "id": "478c5949-b5cb-4a4c-9915-6201427248c1",
   "metadata": {},
   "outputs": [
    {
     "data": {
      "text/html": [
       "<table class=\"dataframe\">\n",
       "<caption>A data.frame: 6 × 16</caption>\n",
       "<thead>\n",
       "\t<tr><th></th><th scope=col>index</th><th scope=col>state</th><th scope=col>year</th><th scope=col>name</th><th scope=col>type</th><th scope=col>city</th><th scope=col>county</th><th scope=col>district</th><th scope=col>enroll</th><th scope=col>mmr</th><th scope=col>overall</th><th scope=col>xrel</th><th scope=col>xmed</th><th scope=col>xper</th><th scope=col>lat</th><th scope=col>lng</th></tr>\n",
       "\t<tr><th></th><th scope=col>&lt;int&gt;</th><th scope=col>&lt;chr&gt;</th><th scope=col>&lt;chr&gt;</th><th scope=col>&lt;chr&gt;</th><th scope=col>&lt;chr&gt;</th><th scope=col>&lt;chr&gt;</th><th scope=col>&lt;chr&gt;</th><th scope=col>&lt;lgl&gt;</th><th scope=col>&lt;int&gt;</th><th scope=col>&lt;dbl&gt;</th><th scope=col>&lt;dbl&gt;</th><th scope=col>&lt;lgl&gt;</th><th scope=col>&lt;dbl&gt;</th><th scope=col>&lt;dbl&gt;</th><th scope=col>&lt;dbl&gt;</th><th scope=col>&lt;dbl&gt;</th></tr>\n",
       "</thead>\n",
       "<tbody>\n",
       "\t<tr><th scope=row>1</th><td>1</td><td>North Carolina</td><td>2018-19</td><td>A T Allen Elementary                 </td><td>NA</td><td>NA</td><td>Cabarrus</td><td>NA</td><td>132</td><td>-1</td><td>100</td><td>NA</td><td>NA</td><td>NA</td><td>35.36238</td><td>-80.51297</td></tr>\n",
       "\t<tr><th scope=row>2</th><td>2</td><td>North Carolina</td><td>2018-19</td><td>A.C.E. Academy                       </td><td>NA</td><td>NA</td><td>Cabarrus</td><td>NA</td><td> 44</td><td>-1</td><td>100</td><td>NA</td><td>NA</td><td>NA</td><td>35.30806</td><td>-80.67281</td></tr>\n",
       "\t<tr><th scope=row>3</th><td>3</td><td>North Carolina</td><td>2018-19</td><td>ABC of NC Child Develop. Ctr         </td><td>NA</td><td>NA</td><td>Davidson</td><td>NA</td><td>  1</td><td>-1</td><td>100</td><td>NA</td><td>NA</td><td>NA</td><td>35.99481</td><td>-80.27403</td></tr>\n",
       "\t<tr><th scope=row>4</th><td>4</td><td>North Carolina</td><td>2018-19</td><td>Agape Christian                      </td><td>NA</td><td>NA</td><td>Ashe    </td><td>NA</td><td>  3</td><td>-1</td><td>100</td><td>NA</td><td>NA</td><td>NA</td><td>36.42064</td><td>-81.48704</td></tr>\n",
       "\t<tr><th scope=row>5</th><td>5</td><td>North Carolina</td><td>2018-19</td><td>Agape International Christian Academy</td><td>NA</td><td>NA</td><td>Franklin</td><td>NA</td><td>  1</td><td>-1</td><td>100</td><td>NA</td><td>NA</td><td>NA</td><td>36.03484</td><td>-78.49820</td></tr>\n",
       "\t<tr><th scope=row>6</th><td>6</td><td>North Carolina</td><td>2018-19</td><td>Ahoskie Christian                    </td><td>NA</td><td>NA</td><td>Hertford</td><td>NA</td><td> 32</td><td>-1</td><td>100</td><td>NA</td><td>NA</td><td>NA</td><td>36.27857</td><td>-76.97674</td></tr>\n",
       "</tbody>\n",
       "</table>\n"
      ],
      "text/latex": [
       "A data.frame: 6 × 16\n",
       "\\begin{tabular}{r|llllllllllllllll}\n",
       "  & index & state & year & name & type & city & county & district & enroll & mmr & overall & xrel & xmed & xper & lat & lng\\\\\n",
       "  & <int> & <chr> & <chr> & <chr> & <chr> & <chr> & <chr> & <lgl> & <int> & <dbl> & <dbl> & <lgl> & <dbl> & <dbl> & <dbl> & <dbl>\\\\\n",
       "\\hline\n",
       "\t1 & 1 & North Carolina & 2018-19 & A T Allen Elementary                  & NA & NA & Cabarrus & NA & 132 & -1 & 100 & NA & NA & NA & 35.36238 & -80.51297\\\\\n",
       "\t2 & 2 & North Carolina & 2018-19 & A.C.E. Academy                        & NA & NA & Cabarrus & NA &  44 & -1 & 100 & NA & NA & NA & 35.30806 & -80.67281\\\\\n",
       "\t3 & 3 & North Carolina & 2018-19 & ABC of NC Child Develop. Ctr          & NA & NA & Davidson & NA &   1 & -1 & 100 & NA & NA & NA & 35.99481 & -80.27403\\\\\n",
       "\t4 & 4 & North Carolina & 2018-19 & Agape Christian                       & NA & NA & Ashe     & NA &   3 & -1 & 100 & NA & NA & NA & 36.42064 & -81.48704\\\\\n",
       "\t5 & 5 & North Carolina & 2018-19 & Agape International Christian Academy & NA & NA & Franklin & NA &   1 & -1 & 100 & NA & NA & NA & 36.03484 & -78.49820\\\\\n",
       "\t6 & 6 & North Carolina & 2018-19 & Ahoskie Christian                     & NA & NA & Hertford & NA &  32 & -1 & 100 & NA & NA & NA & 36.27857 & -76.97674\\\\\n",
       "\\end{tabular}\n"
      ],
      "text/markdown": [
       "\n",
       "A data.frame: 6 × 16\n",
       "\n",
       "| <!--/--> | index &lt;int&gt; | state &lt;chr&gt; | year &lt;chr&gt; | name &lt;chr&gt; | type &lt;chr&gt; | city &lt;chr&gt; | county &lt;chr&gt; | district &lt;lgl&gt; | enroll &lt;int&gt; | mmr &lt;dbl&gt; | overall &lt;dbl&gt; | xrel &lt;lgl&gt; | xmed &lt;dbl&gt; | xper &lt;dbl&gt; | lat &lt;dbl&gt; | lng &lt;dbl&gt; |\n",
       "|---|---|---|---|---|---|---|---|---|---|---|---|---|---|---|---|---|\n",
       "| 1 | 1 | North Carolina | 2018-19 | A T Allen Elementary                  | NA | NA | Cabarrus | NA | 132 | -1 | 100 | NA | NA | NA | 35.36238 | -80.51297 |\n",
       "| 2 | 2 | North Carolina | 2018-19 | A.C.E. Academy                        | NA | NA | Cabarrus | NA |  44 | -1 | 100 | NA | NA | NA | 35.30806 | -80.67281 |\n",
       "| 3 | 3 | North Carolina | 2018-19 | ABC of NC Child Develop. Ctr          | NA | NA | Davidson | NA |   1 | -1 | 100 | NA | NA | NA | 35.99481 | -80.27403 |\n",
       "| 4 | 4 | North Carolina | 2018-19 | Agape Christian                       | NA | NA | Ashe     | NA |   3 | -1 | 100 | NA | NA | NA | 36.42064 | -81.48704 |\n",
       "| 5 | 5 | North Carolina | 2018-19 | Agape International Christian Academy | NA | NA | Franklin | NA |   1 | -1 | 100 | NA | NA | NA | 36.03484 | -78.49820 |\n",
       "| 6 | 6 | North Carolina | 2018-19 | Ahoskie Christian                     | NA | NA | Hertford | NA |  32 | -1 | 100 | NA | NA | NA | 36.27857 | -76.97674 |\n",
       "\n"
      ],
      "text/plain": [
       "  index state          year    name                                  type city\n",
       "1 1     North Carolina 2018-19 A T Allen Elementary                  NA   NA  \n",
       "2 2     North Carolina 2018-19 A.C.E. Academy                        NA   NA  \n",
       "3 3     North Carolina 2018-19 ABC of NC Child Develop. Ctr          NA   NA  \n",
       "4 4     North Carolina 2018-19 Agape Christian                       NA   NA  \n",
       "5 5     North Carolina 2018-19 Agape International Christian Academy NA   NA  \n",
       "6 6     North Carolina 2018-19 Ahoskie Christian                     NA   NA  \n",
       "  county   district enroll mmr overall xrel xmed xper lat      lng      \n",
       "1 Cabarrus NA       132    -1  100     NA   NA   NA   35.36238 -80.51297\n",
       "2 Cabarrus NA        44    -1  100     NA   NA   NA   35.30806 -80.67281\n",
       "3 Davidson NA         1    -1  100     NA   NA   NA   35.99481 -80.27403\n",
       "4 Ashe     NA         3    -1  100     NA   NA   NA   36.42064 -81.48704\n",
       "5 Franklin NA         1    -1  100     NA   NA   NA   36.03484 -78.49820\n",
       "6 Hertford NA        32    -1  100     NA   NA   NA   36.27857 -76.97674"
      ]
     },
     "metadata": {},
     "output_type": "display_data"
    }
   ],
   "source": [
    "df.nc = df.vax |> filter(state == \"North Carolina\") \n",
    "df.nc |> head()"
   ]
  },
  {
   "cell_type": "code",
   "execution_count": 8,
   "id": "3209f650-fa7d-4ea0-bdb0-432708284529",
   "metadata": {
    "tags": []
   },
   "outputs": [
    {
     "data": {
      "image/png": "[encoded data removed]",
      "text/plain": [
       "plot without title"
      ]
     },
     "metadata": {
      "image/png": {
       "height": 375,
       "width": 500
      }
     },
     "output_type": "display_data"
    }
   ],
   "source": [
    "ggplot(df.nc, aes(x=overall)) + stat_ecdf(pad = FALSE) + geom_vline(xintercept=95, color='Green', linetype=\"dashed\") +\n",
    "    xlab('Vaccination rate (%)') + ylab('Fraction of Schools') "
   ]
  },
  {
   "cell_type": "markdown",
   "id": "8f5ea83f-c904-46ee-9f52-af1bd1afbc96",
   "metadata": {},
   "source": [
    "(My solution is below if you want to peek 👀. Uncomment the code, change the cell to `markdown`, and exectute it. I used `geom_text_repel` from [ggrepel](https://cran.r-project.org/web/packages/ggrepel/vignettes/ggrepel.html) fo the annotation.)"
   ]
  },
  {
   "cell_type": "markdown",
   "id": "28c8ae2d-23a9-4773-9ce3-c0b50ca6ef8d",
   "metadata": {},
   "source": [
    "![](https://github.com/chuckpr/BIOS512/blob/main/assignments/2023/measles-chart.png?raw=true)"
   ]
  },
  {
   "cell_type": "markdown",
   "id": "d2041941-dcee-42e8-957f-a725dc36388f",
   "metadata": {},
   "source": [
    "Is the median vaccination rate for NC schools above the CDC recommended target?"
   ]
  },
  {
   "cell_type": "code",
   "execution_count": 9,
   "id": "39a24237-279d-4246-8ace-7008936e600e",
   "metadata": {
    "tags": []
   },
   "outputs": [
    {
     "data": {
      "text/html": [
       "100"
      ],
      "text/latex": [
       "100"
      ],
      "text/markdown": [
       "100"
      ],
      "text/plain": [
       "[1] 100"
      ]
     },
     "metadata": {},
     "output_type": "display_data"
    }
   ],
   "source": [
    "median(df.nc$overall)"
   ]
  },
  {
   "cell_type": "markdown",
   "id": "0f2d8ae0-9d41-430e-931b-daa0742bc917",
   "metadata": {},
   "source": [
    "The median is 100 which is above the recommended target"
   ]
  },
  {
   "cell_type": "code",
   "execution_count": null,
   "id": "647f6de2-5c20-4f23-a2e9-9a2d8d40981c",
   "metadata": {},
   "outputs": [],
   "source": []
  }
 ],
 "metadata": {
  "kernelspec": {
   "display_name": ".conda-bios512:R",
   "language": "R",
   "name": "conda-env-.conda-bios512-r"
  },
  "language_info": {
   "codemirror_mode": "r",
   "file_extension": ".r",
   "mimetype": "text/x-r-source",
   "name": "R",
   "pygments_lexer": "r",
   "version": "4.4.1"
  }
 },
 "nbformat": 4,
 "nbformat_minor": 5
}
